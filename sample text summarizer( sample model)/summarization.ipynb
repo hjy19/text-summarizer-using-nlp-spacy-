{
 "cells": [
  {
   "cell_type": "code",
   "execution_count": 1,
   "id": "1559ca48",
   "metadata": {},
   "outputs": [],
   "source": [
    "import numpy as np\n",
    "import pandas as pd\n",
    "import spacy "
   ]
  },
  {
   "cell_type": "code",
   "execution_count": 10,
   "id": "d3b00e44",
   "metadata": {},
   "outputs": [],
   "source": [
    "nlp = spacy.load(\"en_core_web_md\")\n"
   ]
  },
  {
   "cell_type": "code",
   "execution_count": 45,
   "id": "e71c6372",
   "metadata": {},
   "outputs": [],
   "source": [
    "with open(\"genetics.txt\",\"r\") as f:\n",
    "    text = f.read()\n",
    "doc = nlp(text = text)\n"
   ]
  },
  {
   "cell_type": "code",
   "execution_count": null,
   "id": "b8bea2f9",
   "metadata": {},
   "outputs": [],
   "source": [
    "#stage1"
   ]
  },
  {
   "cell_type": "code",
   "execution_count": 40,
   "id": "8af893fe",
   "metadata": {},
   "outputs": [],
   "source": [
    "word_dict = {}"
   ]
  },
  {
   "cell_type": "code",
   "execution_count": 41,
   "id": "0ac0c9de",
   "metadata": {},
   "outputs": [],
   "source": [
    "for word in doc:\n",
    "    word = word.text.lower()\n",
    "    if word in word_dict:\n",
    "        word_dict[word]+=1\n",
    "    else:\n",
    "        word_dict[word] = 1\n"
   ]
  },
  {
   "cell_type": "code",
   "execution_count": 38,
   "id": "8e66328c",
   "metadata": {},
   "outputs": [],
   "source": [
    "#state2"
   ]
  },
  {
   "cell_type": "code",
   "execution_count": 42,
   "id": "1afa57d2",
   "metadata": {},
   "outputs": [],
   "source": [
    "sentences = []\n",
    "sentence_score = 0\n",
    "for i, sentence in enumerate(doc.sents):\n",
    "    \n",
    "    for word in sentence:\n",
    "        word = word.text.lower()\n",
    "        sentence_score += word_dict[word]\n",
    "    sentences.append((i,sentence.text.replace(\"\\n\",\" \"),sentence_score/len(sentence)))"
   ]
  },
  {
   "cell_type": "code",
   "execution_count": 42,
   "id": "100ac6c4",
   "metadata": {},
   "outputs": [],
   "source": [
    "#stage3"
   ]
  },
  {
   "cell_type": "code",
   "execution_count": 43,
   "id": "d61ce9e9",
   "metadata": {},
   "outputs": [
    {
     "name": "stdout",
     "output_type": "stream",
     "text": [
      "Gene action depends on interaction with the environment.\n",
      "Genetics as a scientific discipline stemmed from the work of Gregor Mendel in the middle of the 19th century.\n",
      "All present research in genetics can be traced back to Mendelâ€™s discovery of the laws governing the inheritance of traits.\n",
      "\n"
     ]
    }
   ],
   "source": [
    "sorted_sentence = sorted(sentences,key=lambda x: -x[2])\n",
    "top_three = sorted(sorted_sentence[:3],key = lambda x: x[0])\n",
    "\n",
    "summary_text = \"\"\n",
    "for sentence in top_three:\n",
    "    summary_text += sentence[1]+'\\n'\n",
    "print(summary_text)"
   ]
  },
  {
   "cell_type": "code",
   "execution_count": null,
   "id": "bf9cf779",
   "metadata": {},
   "outputs": [],
   "source": []
  },
  {
   "cell_type": "code",
   "execution_count": null,
   "id": "e7119e2e",
   "metadata": {},
   "outputs": [],
   "source": []
  },
  {
   "cell_type": "code",
   "execution_count": null,
   "id": "68615042",
   "metadata": {},
   "outputs": [],
   "source": []
  },
  {
   "cell_type": "code",
   "execution_count": null,
   "id": "8ea52621",
   "metadata": {},
   "outputs": [],
   "source": []
  },
  {
   "cell_type": "code",
   "execution_count": null,
   "id": "b9f70d54",
   "metadata": {},
   "outputs": [],
   "source": []
  },
  {
   "cell_type": "code",
   "execution_count": null,
   "id": "8456b242",
   "metadata": {},
   "outputs": [],
   "source": []
  },
  {
   "cell_type": "code",
   "execution_count": null,
   "id": "6b3b4386",
   "metadata": {},
   "outputs": [],
   "source": []
  },
  {
   "cell_type": "code",
   "execution_count": null,
   "id": "ec60cee6",
   "metadata": {},
   "outputs": [],
   "source": []
  },
  {
   "cell_type": "code",
   "execution_count": null,
   "id": "0e150689",
   "metadata": {},
   "outputs": [],
   "source": []
  },
  {
   "cell_type": "code",
   "execution_count": null,
   "id": "f9f9d5be",
   "metadata": {},
   "outputs": [],
   "source": []
  },
  {
   "cell_type": "code",
   "execution_count": null,
   "id": "bdd9f552",
   "metadata": {},
   "outputs": [],
   "source": []
  },
  {
   "cell_type": "code",
   "execution_count": null,
   "id": "3c57a943",
   "metadata": {},
   "outputs": [],
   "source": []
  },
  {
   "cell_type": "code",
   "execution_count": null,
   "id": "64d16e9b",
   "metadata": {},
   "outputs": [],
   "source": []
  },
  {
   "cell_type": "code",
   "execution_count": null,
   "id": "fb75aafe",
   "metadata": {},
   "outputs": [],
   "source": []
  },
  {
   "cell_type": "code",
   "execution_count": null,
   "id": "719f6cd7",
   "metadata": {},
   "outputs": [],
   "source": []
  },
  {
   "cell_type": "code",
   "execution_count": null,
   "id": "18ad8586",
   "metadata": {},
   "outputs": [],
   "source": []
  },
  {
   "cell_type": "code",
   "execution_count": null,
   "id": "162b63d3",
   "metadata": {},
   "outputs": [],
   "source": []
  },
  {
   "cell_type": "code",
   "execution_count": null,
   "id": "48697845",
   "metadata": {},
   "outputs": [],
   "source": []
  },
  {
   "cell_type": "code",
   "execution_count": null,
   "id": "e303145f",
   "metadata": {},
   "outputs": [],
   "source": []
  },
  {
   "cell_type": "code",
   "execution_count": null,
   "id": "22bdc2bd",
   "metadata": {},
   "outputs": [],
   "source": []
  },
  {
   "cell_type": "code",
   "execution_count": null,
   "id": "03daee85",
   "metadata": {},
   "outputs": [],
   "source": []
  },
  {
   "cell_type": "code",
   "execution_count": null,
   "id": "062a7c87",
   "metadata": {},
   "outputs": [],
   "source": []
  },
  {
   "cell_type": "code",
   "execution_count": null,
   "id": "234b62e5",
   "metadata": {},
   "outputs": [],
   "source": []
  },
  {
   "cell_type": "code",
   "execution_count": null,
   "id": "4ec7d864",
   "metadata": {},
   "outputs": [],
   "source": []
  },
  {
   "cell_type": "code",
   "execution_count": null,
   "id": "fdf5b304",
   "metadata": {},
   "outputs": [],
   "source": []
  },
  {
   "cell_type": "code",
   "execution_count": null,
   "id": "8c4ce170",
   "metadata": {},
   "outputs": [],
   "source": []
  },
  {
   "cell_type": "code",
   "execution_count": null,
   "id": "222216e6",
   "metadata": {},
   "outputs": [],
   "source": []
  },
  {
   "cell_type": "code",
   "execution_count": null,
   "id": "fdb34bf1",
   "metadata": {},
   "outputs": [],
   "source": []
  },
  {
   "cell_type": "code",
   "execution_count": null,
   "id": "a931c142",
   "metadata": {},
   "outputs": [],
   "source": []
  },
  {
   "cell_type": "code",
   "execution_count": null,
   "id": "d9371d6a",
   "metadata": {},
   "outputs": [],
   "source": []
  },
  {
   "cell_type": "code",
   "execution_count": null,
   "id": "56771957",
   "metadata": {},
   "outputs": [],
   "source": []
  },
  {
   "cell_type": "code",
   "execution_count": null,
   "id": "c63809ca",
   "metadata": {},
   "outputs": [],
   "source": []
  }
 ],
 "metadata": {
  "kernelspec": {
   "display_name": "Python 3 (ipykernel)",
   "language": "python",
   "name": "python3"
  },
  "language_info": {
   "codemirror_mode": {
    "name": "ipython",
    "version": 3
   },
   "file_extension": ".py",
   "mimetype": "text/x-python",
   "name": "python",
   "nbconvert_exporter": "python",
   "pygments_lexer": "ipython3",
   "version": "3.10.9"
  }
 },
 "nbformat": 4,
 "nbformat_minor": 5
}
